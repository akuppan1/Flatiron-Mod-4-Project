{
 "cells": [
  {
   "cell_type": "code",
   "execution_count": 1,
   "metadata": {},
   "outputs": [],
   "source": [
    "# Import necessary libraries\n",
    "import warnings\n",
    "warnings.filterwarnings('ignore')\n",
    "\n",
    "import pandas as pd \n",
    "import matplotlib.pyplot as plt\n",
    "import matplotlib\n",
    "import seaborn as sns\n",
    "%matplotlib inline\n",
    "from matplotlib.pylab import rcParams\n",
    "plt.style.use('fivethirtyeight')\n",
    "\n",
    "#Lets not touch fbprophet in this env. Creating a new fbprophet vanilla env to work in\n",
    "# from fbprophet import Prophet as proph"
   ]
  },
  {
   "cell_type": "code",
   "execution_count": 2,
   "metadata": {},
   "outputs": [
    {
     "data": {
      "text/html": [
       "<div>\n",
       "<style scoped>\n",
       "    .dataframe tbody tr th:only-of-type {\n",
       "        vertical-align: middle;\n",
       "    }\n",
       "\n",
       "    .dataframe tbody tr th {\n",
       "        vertical-align: top;\n",
       "    }\n",
       "\n",
       "    .dataframe thead th {\n",
       "        text-align: right;\n",
       "    }\n",
       "</style>\n",
       "<table border=\"1\" class=\"dataframe\">\n",
       "  <thead>\n",
       "    <tr style=\"text-align: right;\">\n",
       "      <th></th>\n",
       "      <th>Unnamed: 0</th>\n",
       "      <th>RegionID</th>\n",
       "      <th>RegionName</th>\n",
       "      <th>City</th>\n",
       "      <th>State</th>\n",
       "      <th>Metro</th>\n",
       "      <th>CountyName</th>\n",
       "      <th>SizeRank</th>\n",
       "      <th>1996-04</th>\n",
       "      <th>1996-05</th>\n",
       "      <th>...</th>\n",
       "      <th>2017-07</th>\n",
       "      <th>2017-08</th>\n",
       "      <th>2017-09</th>\n",
       "      <th>2017-10</th>\n",
       "      <th>2017-11</th>\n",
       "      <th>2017-12</th>\n",
       "      <th>2018-01</th>\n",
       "      <th>2018-02</th>\n",
       "      <th>2018-03</th>\n",
       "      <th>2018-04</th>\n",
       "    </tr>\n",
       "  </thead>\n",
       "  <tbody>\n",
       "    <tr>\n",
       "      <th>0</th>\n",
       "      <td>5</td>\n",
       "      <td>91733</td>\n",
       "      <td>77084</td>\n",
       "      <td>Houston</td>\n",
       "      <td>TX</td>\n",
       "      <td>Houston</td>\n",
       "      <td>Harris</td>\n",
       "      <td>6</td>\n",
       "      <td>95000.0</td>\n",
       "      <td>95200.0</td>\n",
       "      <td>...</td>\n",
       "      <td>157900</td>\n",
       "      <td>158700</td>\n",
       "      <td>160200</td>\n",
       "      <td>161900</td>\n",
       "      <td>162800</td>\n",
       "      <td>162800</td>\n",
       "      <td>162800</td>\n",
       "      <td>162900</td>\n",
       "      <td>163500</td>\n",
       "      <td>164300</td>\n",
       "    </tr>\n",
       "  </tbody>\n",
       "</table>\n",
       "<p>1 rows × 273 columns</p>\n",
       "</div>"
      ],
      "text/plain": [
       "   Unnamed: 0  RegionID  RegionName     City State    Metro CountyName  \\\n",
       "0           5     91733       77084  Houston    TX  Houston     Harris   \n",
       "\n",
       "   SizeRank  1996-04  1996-05  ...  2017-07  2017-08  2017-09  2017-10  \\\n",
       "0         6  95000.0  95200.0  ...   157900   158700   160200   161900   \n",
       "\n",
       "   2017-11  2017-12  2018-01  2018-02  2018-03  2018-04  \n",
       "0   162800   162800   162800   162900   163500   164300  \n",
       "\n",
       "[1 rows x 273 columns]"
      ]
     },
     "execution_count": 2,
     "metadata": {},
     "output_type": "execute_result"
    }
   ],
   "source": [
    "#load the data\n",
    "\n",
    "df_zillow_77084 = pd.read_csv('df_zillow_77084.csv')\n",
    "\n",
    "df_zillow_77084.head()\n",
    "\n",
    "\n"
   ]
  },
  {
   "cell_type": "code",
   "execution_count": 3,
   "metadata": {},
   "outputs": [
    {
     "data": {
      "text/plain": [
       "Index(['Unnamed: 0', 'RegionID', 'RegionName', 'City', 'State', 'Metro',\n",
       "       'CountyName', 'SizeRank', '1996-04', '1996-05',\n",
       "       ...\n",
       "       '2017-07', '2017-08', '2017-09', '2017-10', '2017-11', '2017-12',\n",
       "       '2018-01', '2018-02', '2018-03', '2018-04'],\n",
       "      dtype='object', length=273)"
      ]
     },
     "execution_count": 3,
     "metadata": {},
     "output_type": "execute_result"
    }
   ],
   "source": [
    "df_zillow_77084.columns"
   ]
  },
  {
   "cell_type": "code",
   "execution_count": 4,
   "metadata": {},
   "outputs": [],
   "source": [
    "#Drop unnamed column then melt it\n",
    "df_zillow_77084 = df_zillow_77084.drop(labels='Unnamed: 0', axis=1)"
   ]
  },
  {
   "cell_type": "code",
   "execution_count": 5,
   "metadata": {},
   "outputs": [
    {
     "data": {
      "text/html": [
       "<div>\n",
       "<style scoped>\n",
       "    .dataframe tbody tr th:only-of-type {\n",
       "        vertical-align: middle;\n",
       "    }\n",
       "\n",
       "    .dataframe tbody tr th {\n",
       "        vertical-align: top;\n",
       "    }\n",
       "\n",
       "    .dataframe thead th {\n",
       "        text-align: right;\n",
       "    }\n",
       "</style>\n",
       "<table border=\"1\" class=\"dataframe\">\n",
       "  <thead>\n",
       "    <tr style=\"text-align: right;\">\n",
       "      <th></th>\n",
       "      <th>RegionID</th>\n",
       "      <th>RegionName</th>\n",
       "      <th>City</th>\n",
       "      <th>State</th>\n",
       "      <th>Metro</th>\n",
       "      <th>CountyName</th>\n",
       "      <th>SizeRank</th>\n",
       "      <th>1996-04</th>\n",
       "      <th>1996-05</th>\n",
       "      <th>1996-06</th>\n",
       "      <th>...</th>\n",
       "      <th>2017-07</th>\n",
       "      <th>2017-08</th>\n",
       "      <th>2017-09</th>\n",
       "      <th>2017-10</th>\n",
       "      <th>2017-11</th>\n",
       "      <th>2017-12</th>\n",
       "      <th>2018-01</th>\n",
       "      <th>2018-02</th>\n",
       "      <th>2018-03</th>\n",
       "      <th>2018-04</th>\n",
       "    </tr>\n",
       "  </thead>\n",
       "  <tbody>\n",
       "    <tr>\n",
       "      <th>0</th>\n",
       "      <td>91733</td>\n",
       "      <td>77084</td>\n",
       "      <td>Houston</td>\n",
       "      <td>TX</td>\n",
       "      <td>Houston</td>\n",
       "      <td>Harris</td>\n",
       "      <td>6</td>\n",
       "      <td>95000.0</td>\n",
       "      <td>95200.0</td>\n",
       "      <td>95400.0</td>\n",
       "      <td>...</td>\n",
       "      <td>157900</td>\n",
       "      <td>158700</td>\n",
       "      <td>160200</td>\n",
       "      <td>161900</td>\n",
       "      <td>162800</td>\n",
       "      <td>162800</td>\n",
       "      <td>162800</td>\n",
       "      <td>162900</td>\n",
       "      <td>163500</td>\n",
       "      <td>164300</td>\n",
       "    </tr>\n",
       "  </tbody>\n",
       "</table>\n",
       "<p>1 rows × 272 columns</p>\n",
       "</div>"
      ],
      "text/plain": [
       "   RegionID  RegionName     City State    Metro CountyName  SizeRank  1996-04  \\\n",
       "0     91733       77084  Houston    TX  Houston     Harris         6  95000.0   \n",
       "\n",
       "   1996-05  1996-06  ...  2017-07  2017-08  2017-09  2017-10  2017-11  \\\n",
       "0  95200.0  95400.0  ...   157900   158700   160200   161900   162800   \n",
       "\n",
       "   2017-12  2018-01  2018-02  2018-03  2018-04  \n",
       "0   162800   162800   162900   163500   164300  \n",
       "\n",
       "[1 rows x 272 columns]"
      ]
     },
     "execution_count": 5,
     "metadata": {},
     "output_type": "execute_result"
    }
   ],
   "source": [
    "df_zillow_77084.head()"
   ]
  },
  {
   "cell_type": "code",
   "execution_count": 6,
   "metadata": {},
   "outputs": [],
   "source": [
    "# def get_datetimes(df):\n",
    "#     return pd.to_datetime(df.columns.values[7:], format='%Y-%m')\n",
    "# yea = get_datetimes(df_zillow_77084)"
   ]
  },
  {
   "cell_type": "code",
   "execution_count": null,
   "metadata": {},
   "outputs": [],
   "source": []
  },
  {
   "cell_type": "code",
   "execution_count": 7,
   "metadata": {},
   "outputs": [],
   "source": [
    "#melt it\n",
    "\n",
    "df_zillow_1 = pd.melt(df_zillow_77084, id_vars=['RegionID', 'RegionName', 'City', 'State', 'Metro', 'CountyName', 'SizeRank'])"
   ]
  },
  {
   "cell_type": "code",
   "execution_count": 8,
   "metadata": {},
   "outputs": [
    {
     "data": {
      "text/plain": [
       "pandas.core.series.Series"
      ]
     },
     "execution_count": 8,
     "metadata": {},
     "output_type": "execute_result"
    }
   ],
   "source": [
    "type(df_zillow_1['variable'])"
   ]
  },
  {
   "cell_type": "code",
   "execution_count": 11,
   "metadata": {},
   "outputs": [
    {
     "data": {
      "text/html": [
       "<div>\n",
       "<style scoped>\n",
       "    .dataframe tbody tr th:only-of-type {\n",
       "        vertical-align: middle;\n",
       "    }\n",
       "\n",
       "    .dataframe tbody tr th {\n",
       "        vertical-align: top;\n",
       "    }\n",
       "\n",
       "    .dataframe thead th {\n",
       "        text-align: right;\n",
       "    }\n",
       "</style>\n",
       "<table border=\"1\" class=\"dataframe\">\n",
       "  <thead>\n",
       "    <tr style=\"text-align: right;\">\n",
       "      <th></th>\n",
       "      <th>RegionID</th>\n",
       "      <th>RegionName</th>\n",
       "      <th>City</th>\n",
       "      <th>State</th>\n",
       "      <th>Metro</th>\n",
       "      <th>CountyName</th>\n",
       "      <th>SizeRank</th>\n",
       "      <th>variable</th>\n",
       "      <th>value</th>\n",
       "    </tr>\n",
       "  </thead>\n",
       "  <tbody>\n",
       "    <tr>\n",
       "      <th>0</th>\n",
       "      <td>91733</td>\n",
       "      <td>77084</td>\n",
       "      <td>Houston</td>\n",
       "      <td>TX</td>\n",
       "      <td>Houston</td>\n",
       "      <td>Harris</td>\n",
       "      <td>6</td>\n",
       "      <td>1996-04</td>\n",
       "      <td>95000.0</td>\n",
       "    </tr>\n",
       "    <tr>\n",
       "      <th>1</th>\n",
       "      <td>91733</td>\n",
       "      <td>77084</td>\n",
       "      <td>Houston</td>\n",
       "      <td>TX</td>\n",
       "      <td>Houston</td>\n",
       "      <td>Harris</td>\n",
       "      <td>6</td>\n",
       "      <td>1996-05</td>\n",
       "      <td>95200.0</td>\n",
       "    </tr>\n",
       "    <tr>\n",
       "      <th>2</th>\n",
       "      <td>91733</td>\n",
       "      <td>77084</td>\n",
       "      <td>Houston</td>\n",
       "      <td>TX</td>\n",
       "      <td>Houston</td>\n",
       "      <td>Harris</td>\n",
       "      <td>6</td>\n",
       "      <td>1996-06</td>\n",
       "      <td>95400.0</td>\n",
       "    </tr>\n",
       "    <tr>\n",
       "      <th>3</th>\n",
       "      <td>91733</td>\n",
       "      <td>77084</td>\n",
       "      <td>Houston</td>\n",
       "      <td>TX</td>\n",
       "      <td>Houston</td>\n",
       "      <td>Harris</td>\n",
       "      <td>6</td>\n",
       "      <td>1996-07</td>\n",
       "      <td>95700.0</td>\n",
       "    </tr>\n",
       "    <tr>\n",
       "      <th>4</th>\n",
       "      <td>91733</td>\n",
       "      <td>77084</td>\n",
       "      <td>Houston</td>\n",
       "      <td>TX</td>\n",
       "      <td>Houston</td>\n",
       "      <td>Harris</td>\n",
       "      <td>6</td>\n",
       "      <td>1996-08</td>\n",
       "      <td>95900.0</td>\n",
       "    </tr>\n",
       "    <tr>\n",
       "      <th>...</th>\n",
       "      <td>...</td>\n",
       "      <td>...</td>\n",
       "      <td>...</td>\n",
       "      <td>...</td>\n",
       "      <td>...</td>\n",
       "      <td>...</td>\n",
       "      <td>...</td>\n",
       "      <td>...</td>\n",
       "      <td>...</td>\n",
       "    </tr>\n",
       "    <tr>\n",
       "      <th>260</th>\n",
       "      <td>91733</td>\n",
       "      <td>77084</td>\n",
       "      <td>Houston</td>\n",
       "      <td>TX</td>\n",
       "      <td>Houston</td>\n",
       "      <td>Harris</td>\n",
       "      <td>6</td>\n",
       "      <td>2017-12</td>\n",
       "      <td>162800.0</td>\n",
       "    </tr>\n",
       "    <tr>\n",
       "      <th>261</th>\n",
       "      <td>91733</td>\n",
       "      <td>77084</td>\n",
       "      <td>Houston</td>\n",
       "      <td>TX</td>\n",
       "      <td>Houston</td>\n",
       "      <td>Harris</td>\n",
       "      <td>6</td>\n",
       "      <td>2018-01</td>\n",
       "      <td>162800.0</td>\n",
       "    </tr>\n",
       "    <tr>\n",
       "      <th>262</th>\n",
       "      <td>91733</td>\n",
       "      <td>77084</td>\n",
       "      <td>Houston</td>\n",
       "      <td>TX</td>\n",
       "      <td>Houston</td>\n",
       "      <td>Harris</td>\n",
       "      <td>6</td>\n",
       "      <td>2018-02</td>\n",
       "      <td>162900.0</td>\n",
       "    </tr>\n",
       "    <tr>\n",
       "      <th>263</th>\n",
       "      <td>91733</td>\n",
       "      <td>77084</td>\n",
       "      <td>Houston</td>\n",
       "      <td>TX</td>\n",
       "      <td>Houston</td>\n",
       "      <td>Harris</td>\n",
       "      <td>6</td>\n",
       "      <td>2018-03</td>\n",
       "      <td>163500.0</td>\n",
       "    </tr>\n",
       "    <tr>\n",
       "      <th>264</th>\n",
       "      <td>91733</td>\n",
       "      <td>77084</td>\n",
       "      <td>Houston</td>\n",
       "      <td>TX</td>\n",
       "      <td>Houston</td>\n",
       "      <td>Harris</td>\n",
       "      <td>6</td>\n",
       "      <td>2018-04</td>\n",
       "      <td>164300.0</td>\n",
       "    </tr>\n",
       "  </tbody>\n",
       "</table>\n",
       "<p>265 rows × 9 columns</p>\n",
       "</div>"
      ],
      "text/plain": [
       "     RegionID  RegionName     City State    Metro CountyName  SizeRank  \\\n",
       "0       91733       77084  Houston    TX  Houston     Harris         6   \n",
       "1       91733       77084  Houston    TX  Houston     Harris         6   \n",
       "2       91733       77084  Houston    TX  Houston     Harris         6   \n",
       "3       91733       77084  Houston    TX  Houston     Harris         6   \n",
       "4       91733       77084  Houston    TX  Houston     Harris         6   \n",
       "..        ...         ...      ...   ...      ...        ...       ...   \n",
       "260     91733       77084  Houston    TX  Houston     Harris         6   \n",
       "261     91733       77084  Houston    TX  Houston     Harris         6   \n",
       "262     91733       77084  Houston    TX  Houston     Harris         6   \n",
       "263     91733       77084  Houston    TX  Houston     Harris         6   \n",
       "264     91733       77084  Houston    TX  Houston     Harris         6   \n",
       "\n",
       "    variable     value  \n",
       "0    1996-04   95000.0  \n",
       "1    1996-05   95200.0  \n",
       "2    1996-06   95400.0  \n",
       "3    1996-07   95700.0  \n",
       "4    1996-08   95900.0  \n",
       "..       ...       ...  \n",
       "260  2017-12  162800.0  \n",
       "261  2018-01  162800.0  \n",
       "262  2018-02  162900.0  \n",
       "263  2018-03  163500.0  \n",
       "264  2018-04  164300.0  \n",
       "\n",
       "[265 rows x 9 columns]"
      ]
     },
     "execution_count": 11,
     "metadata": {},
     "output_type": "execute_result"
    }
   ],
   "source": [
    "df_zillow_1"
   ]
  },
  {
   "cell_type": "code",
   "execution_count": 9,
   "metadata": {},
   "outputs": [
    {
     "data": {
      "text/plain": [
       "0       95000.0\n",
       "1       95200.0\n",
       "2       95400.0\n",
       "3       95700.0\n",
       "4       95900.0\n",
       "         ...   \n",
       "260    162800.0\n",
       "261    162800.0\n",
       "262    162900.0\n",
       "263    163500.0\n",
       "264    164300.0\n",
       "Name: value, Length: 265, dtype: float64"
      ]
     },
     "execution_count": 9,
     "metadata": {},
     "output_type": "execute_result"
    }
   ],
   "source": [
    "df_zillow_1['value']"
   ]
  },
  {
   "cell_type": "code",
   "execution_count": 19,
   "metadata": {},
   "outputs": [
    {
     "data": {
      "text/plain": [
       "pandas.core.series.Series"
      ]
     },
     "execution_count": 19,
     "metadata": {},
     "output_type": "execute_result"
    }
   ],
   "source": [
    "new_cols = ['ds','y']\n",
    "new_vals = [df_zillow_1['variable'], df_zillow_1['value'] ]\n",
    "\n",
    "\n",
    "df = pd.DataFrame()\n",
    "df = df.reindex(columns=df.columns.tolist() + new_cols)   # add empty cols\n",
    "df['ds'] = df_zillow_1['variable']  # multi-column assignment works for existing cols\n",
    "df['y'] = df_zillow_1['value']\n",
    "\n",
    "type(df['ds'])"
   ]
  },
  {
   "cell_type": "code",
   "execution_count": 21,
   "metadata": {},
   "outputs": [
    {
     "name": "stdout",
     "output_type": "stream",
     "text": [
      "<class 'pandas.core.frame.DataFrame'>\n",
      "RangeIndex: 265 entries, 0 to 264\n",
      "Data columns (total 2 columns):\n",
      " #   Column  Non-Null Count  Dtype         \n",
      "---  ------  --------------  -----         \n",
      " 0   ds      265 non-null    datetime64[ns]\n",
      " 1   y       265 non-null    float64       \n",
      "dtypes: datetime64[ns](1), float64(1)\n",
      "memory usage: 4.3 KB\n"
     ]
    }
   ],
   "source": [
    "\n",
    "\n",
    "#We need to change 'ds' columns to datetime\n",
    "# df_zillow_1.variable = pd.to_datetime(df_zillow_1.variable, format='%Y-%m')\n",
    "\n",
    "df['ds'] = pd.to_datetime(df.ds, format='%Y-%m')\n",
    "type(df['ds'])\n",
    "df.info()\n",
    "\n",
    "#good, now it is datetime Dtype\n"
   ]
  },
  {
   "cell_type": "code",
   "execution_count": 22,
   "metadata": {},
   "outputs": [],
   "source": [
    "df.to_csv('df_zillow_77084_prepped_fbprophet.csv')"
   ]
  },
  {
   "cell_type": "code",
   "execution_count": null,
   "metadata": {},
   "outputs": [],
   "source": []
  }
 ],
 "metadata": {
  "kernelspec": {
   "display_name": "Python 3",
   "language": "python",
   "name": "python3"
  },
  "language_info": {
   "codemirror_mode": {
    "name": "ipython",
    "version": 3
   },
   "file_extension": ".py",
   "mimetype": "text/x-python",
   "name": "python",
   "nbconvert_exporter": "python",
   "pygments_lexer": "ipython3",
   "version": "3.8.5"
  }
 },
 "nbformat": 4,
 "nbformat_minor": 4
}
